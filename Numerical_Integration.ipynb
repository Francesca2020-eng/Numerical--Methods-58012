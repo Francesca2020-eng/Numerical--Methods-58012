{
  "nbformat": 4,
  "nbformat_minor": 0,
  "metadata": {
    "colab": {
      "name": "Numerical_Integration.ipynb",
      "provenance": [],
      "authorship_tag": "ABX9TyPBaamFdAf5dPymEAQi3oqd",
      "include_colab_link": true
    },
    "kernelspec": {
      "name": "python3",
      "display_name": "Python 3"
    },
    "language_info": {
      "name": "python"
    }
  },
  "cells": [
    {
      "cell_type": "markdown",
      "metadata": {
        "id": "view-in-github",
        "colab_type": "text"
      },
      "source": [
        "<a href=\"https://colab.research.google.com/github/Francesca2020-eng/Numerical--Methods-58012/blob/main/Numerical_Integration.ipynb\" target=\"_parent\"><img src=\"https://colab.research.google.com/assets/colab-badge.svg\" alt=\"Open In Colab\"/></a>"
      ]
    },
    {
      "cell_type": "code",
      "execution_count": 5,
      "metadata": {
        "id": "8Ap_j7WWzGov",
        "colab": {
          "base_uri": "https://localhost:8080/"
        },
        "outputId": "6485f64b-949e-47d3-f786-e66e12d7c54a"
      },
      "outputs": [
        {
          "output_type": "stream",
          "name": "stdout",
          "text": [
            "integral = 0.372229\n"
          ]
        }
      ],
      "source": [
        "from math import sin\n",
        "def f(x):return sin(3*x)\n",
        "\n",
        "a=0\n",
        "b=0.6\n",
        "n=7\n",
        "h = (b-a)/n\n",
        "S =h*(f(a)+f(b))\n",
        "for i in range (1,n):\n",
        "  S = S+f(a+i*h)\n",
        "Integral =h*S\n",
        "print('integral = %f' %Integral)  "
      ]
    }
  ]
}