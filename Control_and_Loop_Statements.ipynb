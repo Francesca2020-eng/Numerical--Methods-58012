{
  "nbformat": 4,
  "nbformat_minor": 0,
  "metadata": {
    "colab": {
      "name": "Control and Loop Statements.ipynb",
      "provenance": [],
      "collapsed_sections": [],
      "authorship_tag": "ABX9TyOcruDQ+zoTgQaVvJni7XAF",
      "include_colab_link": true
    },
    "kernelspec": {
      "name": "python3",
      "display_name": "Python 3"
    },
    "language_info": {
      "name": "python"
    }
  },
  "cells": [
    {
      "cell_type": "markdown",
      "metadata": {
        "id": "view-in-github",
        "colab_type": "text"
      },
      "source": [
        "<a href=\"https://colab.research.google.com/github/Francesca2020-eng/Numerical--Methods-58012/blob/main/Control_and_Loop_Statements.ipynb\" target=\"_parent\"><img src=\"https://colab.research.google.com/assets/colab-badge.svg\" alt=\"Open In Colab\"/></a>"
      ]
    },
    {
      "cell_type": "markdown",
      "source": [
        "#If Statement"
      ],
      "metadata": {
        "id": "--FO-WrDqgG3"
      }
    },
    {
      "cell_type": "code",
      "source": [
        "a=12\n",
        "b=100\n",
        "\n",
        "if b>a:\n",
        "  print(\"b is greater than a\")\n"
      ],
      "metadata": {
        "colab": {
          "base_uri": "https://localhost:8080/"
        },
        "id": "hQwpG3cLqk1w",
        "outputId": "b0afa65f-6a2f-4d52-ebec-4952a046d8df"
      },
      "execution_count": null,
      "outputs": [
        {
          "output_type": "stream",
          "name": "stdout",
          "text": [
            "b is greater than a\n"
          ]
        }
      ]
    },
    {
      "cell_type": "markdown",
      "source": [
        "#Else Statement"
      ],
      "metadata": {
        "id": "-OtIrWe5qrhs"
      }
    },
    {
      "cell_type": "code",
      "source": [
        "a=100\n",
        "b=100\n",
        "\n",
        "if b>a:\n",
        "  print(\"b is greater than a\")\n",
        "elif a==b:\n",
        "    print(\"a and b are equal\")\n",
        "else:\n",
        "  print(\"a is greater than b\")"
      ],
      "metadata": {
        "colab": {
          "base_uri": "https://localhost:8080/"
        },
        "id": "VvVbh2DbqzZs",
        "outputId": "c6dcf509-33c1-49b3-959d-711c0cf621b8"
      },
      "execution_count": null,
      "outputs": [
        {
          "output_type": "stream",
          "name": "stdout",
          "text": [
            "a and b are equal\n"
          ]
        }
      ]
    },
    {
      "cell_type": "markdown",
      "source": [
        "#Short Hand if Statement"
      ],
      "metadata": {
        "id": "dTuCGzWorh6q"
      }
    },
    {
      "cell_type": "code",
      "source": [
        "if a>b: print(\"a is greater than b\")"
      ],
      "metadata": {
        "id": "9HiD3Bgvrk2j"
      },
      "execution_count": null,
      "outputs": []
    },
    {
      "cell_type": "markdown",
      "source": [
        "#Short Hand if... Else Statement"
      ],
      "metadata": {
        "id": "_AQ5zz8Orx5p"
      }
    },
    {
      "cell_type": "code",
      "source": [
        "print(\"b is greater than a\") if b>a else print (\"a is greataer than b\")"
      ],
      "metadata": {
        "colab": {
          "base_uri": "https://localhost:8080/"
        },
        "id": "WITzz56pr26n",
        "outputId": "7685c735-e5f8-4203-cd33-391e38f3bc6e"
      },
      "execution_count": null,
      "outputs": [
        {
          "output_type": "stream",
          "name": "stdout",
          "text": [
            "a is greataer than b\n"
          ]
        }
      ]
    },
    {
      "cell_type": "markdown",
      "source": [
        "#And - if both are conditions are true"
      ],
      "metadata": {
        "id": "XMrUOFV3sJGX"
      }
    },
    {
      "cell_type": "code",
      "source": [
        "a= 100\n",
        "b= 10\n",
        "c= 45\n",
        "\n",
        "if a>b and c>b:\n",
        "  print(\" Both condition are true\")"
      ],
      "metadata": {
        "colab": {
          "base_uri": "https://localhost:8080/"
        },
        "id": "2VGEXQE2sVV2",
        "outputId": "615d9014-c8f4-4508-f686-584312e47ca8"
      },
      "execution_count": null,
      "outputs": [
        {
          "output_type": "stream",
          "name": "stdout",
          "text": [
            " Both condition are true\n"
          ]
        }
      ]
    },
    {
      "cell_type": "markdown",
      "source": [
        "#Or - if one of the operands is true"
      ],
      "metadata": {
        "id": "Y7Nw3MrNso1q"
      }
    },
    {
      "cell_type": "code",
      "source": [
        "if a>b or b>c:\n",
        "  print (\"One condition is true\")"
      ],
      "metadata": {
        "colab": {
          "base_uri": "https://localhost:8080/"
        },
        "id": "3DXaIPMAst2S",
        "outputId": "6a8a4039-5aef-493e-8d8a-1eacd7309baa"
      },
      "execution_count": null,
      "outputs": [
        {
          "output_type": "stream",
          "name": "stdout",
          "text": [
            "One condition is true\n"
          ]
        }
      ]
    },
    {
      "cell_type": "markdown",
      "source": [
        "#Nested If"
      ],
      "metadata": {
        "id": "MDY6FXJLs4pi"
      }
    },
    {
      "cell_type": "code",
      "source": [
        "x = input(\"\")\n",
        "\n",
        "x = 41\n",
        "\n",
        "if x>10:\n",
        "  print(\" X is above 10\")\n",
        "  if x>20:\n",
        "    print(\" X is above 20\")\n",
        "    if x>30:\n",
        "      print(\" X is above 30\")\n",
        "    if x>40:\n",
        "        print(\"X is above 40\")\n",
        "        if x>50:\n",
        "          print(\"X is above 50\")\n",
        "        else:\n",
        "          print(\" x is below 50\")\n",
        "else:\n",
        "  print(\" X is below 10\")"
      ],
      "metadata": {
        "colab": {
          "base_uri": "https://localhost:8080/"
        },
        "id": "0RahC2z9tPRL",
        "outputId": "b34519e0-945d-4a4f-d125-4e57f29f7427"
      },
      "execution_count": null,
      "outputs": [
        {
          "output_type": "stream",
          "name": "stdout",
          "text": [
            "51\n",
            " X is above 10\n",
            " X is above 20\n",
            " X is above 30\n",
            "X is above 40\n",
            " x is below 50\n"
          ]
        }
      ]
    },
    {
      "cell_type": "markdown",
      "source": [
        "# Application 1"
      ],
      "metadata": {
        "id": "nWFrZvTNuey_"
      }
    },
    {
      "cell_type": "code",
      "source": [
        "age = int(input())\n",
        "\n",
        "if age>=18:\n",
        "  print(\"You are qualified to vote:\")\n",
        "else:\n",
        "  print(\"You are not qualified to vote\")"
      ],
      "metadata": {
        "colab": {
          "base_uri": "https://localhost:8080/"
        },
        "id": "pd7iEfZPulrm",
        "outputId": "d1a34fd4-d9b4-40b4-a56d-702b4a6db14f"
      },
      "execution_count": null,
      "outputs": [
        {
          "output_type": "stream",
          "name": "stdout",
          "text": [
            "17\n",
            "You are not qualified to vote\n"
          ]
        }
      ]
    },
    {
      "cell_type": "markdown",
      "source": [
        "# Application 2"
      ],
      "metadata": {
        "id": "BuPFCnhfvBNY"
      }
    },
    {
      "cell_type": "code",
      "source": [
        "x = int(input())\n",
        "\n",
        "if x>0:\n",
        "  print(\"X is a positive number\")\n",
        "elif x==0:\n",
        "  print(\" X is zero\")\n",
        "else:\n",
        "  print(\"x is negative number\")"
      ],
      "metadata": {
        "colab": {
          "base_uri": "https://localhost:8080/"
        },
        "id": "tJ6MddaNvEIk",
        "outputId": "c8adacda-4e5b-455f-a32d-cc0d8c797315"
      },
      "execution_count": null,
      "outputs": [
        {
          "output_type": "stream",
          "name": "stdout",
          "text": [
            "0\n",
            " X is zero\n"
          ]
        }
      ]
    },
    {
      "cell_type": "markdown",
      "source": [
        "#Application 3 - Write a program to determine if the grades are:\n",
        "\n",
        "grade > = 70, 'Passed'\n",
        "grade = to 69 'Remedial'\n",
        "grade = 64 'Failed' "
      ],
      "metadata": {
        "id": "3u3wvWlkvwCs"
      }
    },
    {
      "cell_type": "code",
      "source": [
        "grade=int(input())\n",
        "\n",
        "if grade >=70:\n",
        "  print (\"Passed\")\n",
        "\n",
        "elif grade >=65 and grade <=69:\n",
        "  print (\"Remedial\")\n",
        "\n",
        "else:\n",
        "  print (\"Failed\")\n",
        "\n",
        "\n"
      ],
      "metadata": {
        "colab": {
          "base_uri": "https://localhost:8080/"
        },
        "id": "CvUDHqIMvyXp",
        "outputId": "049fdaf7-5aef-4f09-d024-860d749cd8cb"
      },
      "execution_count": 8,
      "outputs": [
        {
          "output_type": "stream",
          "name": "stdout",
          "text": [
            "75\n",
            "Passed\n"
          ]
        }
      ]
    },
    {
      "cell_type": "markdown",
      "source": [
        "#For Loop"
      ],
      "metadata": {
        "id": "f_MbMnwGxIrD"
      }
    },
    {
      "cell_type": "code",
      "source": [
        "week=[\"Sunday\",\"Monday\",\"Tuesday\",\"Wednesday\",\"Thursday\",\"Friday\",\"Saturday\"]\n",
        "\n",
        "for x in week:\n",
        "  print(x)"
      ],
      "metadata": {
        "colab": {
          "base_uri": "https://localhost:8080/"
        },
        "id": "NWgw5c-kxMEP",
        "outputId": "65295fca-955b-4fb7-8f10-cab9f7e85a2d"
      },
      "execution_count": null,
      "outputs": [
        {
          "output_type": "stream",
          "name": "stdout",
          "text": [
            "Sunday\n",
            "Monday\n",
            "Tuesday\n",
            "Wednesday\n",
            "Thursday\n",
            "Friday\n",
            "Saturday\n"
          ]
        }
      ]
    },
    {
      "cell_type": "markdown",
      "source": [
        "#The break statement"
      ],
      "metadata": {
        "id": "RyBc8kgyxlMs"
      }
    },
    {
      "cell_type": "code",
      "source": [
        "for x in week:\n",
        "  print(x)\n",
        "  if x==\"Friday\":\n",
        "   break"
      ],
      "metadata": {
        "colab": {
          "base_uri": "https://localhost:8080/"
        },
        "id": "nF6ORbpgxnl4",
        "outputId": "2d127a2a-6802-43c5-e75a-3f340a261dd0"
      },
      "execution_count": null,
      "outputs": [
        {
          "output_type": "stream",
          "name": "stdout",
          "text": [
            "Sunday\n",
            "Monday\n",
            "Tuesday\n",
            "Wednesday\n",
            "Thursday\n",
            "Friday\n"
          ]
        }
      ]
    },
    {
      "cell_type": "markdown",
      "source": [
        "#Looping through a string"
      ],
      "metadata": {
        "id": "DE9nptdOx1u3"
      }
    },
    {
      "cell_type": "code",
      "source": [
        "for x in \"week\":\n",
        "  print(x)"
      ],
      "metadata": {
        "colab": {
          "base_uri": "https://localhost:8080/"
        },
        "id": "93pb87r_x2bM",
        "outputId": "7f42da99-cb45-4659-a7f1-9cbf5c089e47"
      },
      "execution_count": null,
      "outputs": [
        {
          "output_type": "stream",
          "name": "stdout",
          "text": [
            "w\n",
            "e\n",
            "e\n",
            "k\n"
          ]
        }
      ]
    },
    {
      "cell_type": "markdown",
      "source": [
        "#Range() Function"
      ],
      "metadata": {
        "id": "6sMyc1wUyEAx"
      }
    },
    {
      "cell_type": "code",
      "source": [
        "for x in range(6):\n",
        "  print(x)\n",
        "  "
      ],
      "metadata": {
        "colab": {
          "base_uri": "https://localhost:8080/"
        },
        "id": "PEXBatIryRMp",
        "outputId": "5bd013ae-96d6-4e7c-a444-b838bc855848"
      },
      "execution_count": null,
      "outputs": [
        {
          "output_type": "stream",
          "name": "stdout",
          "text": [
            "0\n",
            "1\n",
            "2\n",
            "3\n",
            "4\n",
            "5\n"
          ]
        }
      ]
    },
    {
      "cell_type": "code",
      "source": [
        "for x in range(2,6):\n",
        "  print(x)"
      ],
      "metadata": {
        "colab": {
          "base_uri": "https://localhost:8080/"
        },
        "id": "7ION4QeHyh5R",
        "outputId": "09422e35-534c-46b6-828e-71c6e21da7f2"
      },
      "execution_count": null,
      "outputs": [
        {
          "output_type": "stream",
          "name": "stdout",
          "text": [
            "2\n",
            "3\n",
            "4\n",
            "5\n"
          ]
        }
      ]
    },
    {
      "cell_type": "markdown",
      "source": [
        "# While Loop"
      ],
      "metadata": {
        "id": "i5TrreLRyoA0"
      }
    },
    {
      "cell_type": "code",
      "source": [
        "i = 1\n",
        "\n",
        "while i<6:\n",
        "  print(i)\n",
        "  i+=1 #same as i=i+1"
      ],
      "metadata": {
        "colab": {
          "base_uri": "https://localhost:8080/"
        },
        "id": "uZs-JR_Wyp6N",
        "outputId": "1878dc18-7ab9-4577-a539-5b9da6babe77"
      },
      "execution_count": null,
      "outputs": [
        {
          "output_type": "stream",
          "name": "stdout",
          "text": [
            "1\n",
            "2\n",
            "3\n",
            "4\n",
            "5\n"
          ]
        }
      ]
    },
    {
      "cell_type": "markdown",
      "source": [
        "#The break Statement"
      ],
      "metadata": {
        "id": "ScnY7NO3zLFH"
      }
    },
    {
      "cell_type": "code",
      "source": [
        "i = 1\n",
        "\n",
        "while i<6:\n",
        "  print(i)\n",
        "  if i==3:\n",
        "    break\n",
        "\n",
        "  i+=1 #same as i=i+1"
      ],
      "metadata": {
        "colab": {
          "base_uri": "https://localhost:8080/"
        },
        "id": "Q_H7iNu0zPwi",
        "outputId": "0062434a-191a-4f1d-bd0e-c25fc41ce16b"
      },
      "execution_count": null,
      "outputs": [
        {
          "output_type": "stream",
          "name": "stdout",
          "text": [
            "1\n",
            "2\n",
            "3\n"
          ]
        }
      ]
    },
    {
      "cell_type": "markdown",
      "source": [
        "# The Continue Stetment"
      ],
      "metadata": {
        "id": "WyFk_Cp0znIp"
      }
    },
    {
      "cell_type": "code",
      "source": [
        "i = 1\n",
        "\n",
        "while i<6:\n",
        "  i+=1\n",
        "  if i==3:\n",
        "   continue\n",
        "   print(i)"
      ],
      "metadata": {
        "id": "A47ljlWXzy4g"
      },
      "execution_count": null,
      "outputs": []
    }
  ]
}