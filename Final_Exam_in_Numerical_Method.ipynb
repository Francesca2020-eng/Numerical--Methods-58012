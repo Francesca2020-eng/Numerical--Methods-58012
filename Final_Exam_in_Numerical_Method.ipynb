{
  "nbformat": 4,
  "nbformat_minor": 0,
  "metadata": {
    "colab": {
      "name": "Final Exam in Numerical Method.ipynb",
      "provenance": [],
      "authorship_tag": "ABX9TyNWLhUsmcumlwaDi6maE7gq",
      "include_colab_link": true
    },
    "kernelspec": {
      "name": "python3",
      "display_name": "Python 3"
    },
    "language_info": {
      "name": "python"
    }
  },
  "cells": [
    {
      "cell_type": "markdown",
      "metadata": {
        "id": "view-in-github",
        "colab_type": "text"
      },
      "source": [
        "<a href=\"https://colab.research.google.com/github/Francesca2020-eng/Numerical--Methods-58012/blob/main/Final_Exam_in_Numerical_Method.ipynb\" target=\"_parent\"><img src=\"https://colab.research.google.com/assets/colab-badge.svg\" alt=\"Open In Colab\"/></a>"
      ]
    },
    {
      "cell_type": "code",
      "execution_count": 3,
      "metadata": {
        "colab": {
          "base_uri": "https://localhost:8080/"
        },
        "id": "rJNExGSDmerD",
        "outputId": "6fe18c82-fd78-4eb4-884e-2cbd53f80f13"
      },
      "outputs": [
        {
          "output_type": "stream",
          "name": "stdout",
          "text": [
            "Integral = -5.436564\n"
          ]
        }
      ],
      "source": [
        "from math import e \n",
        "def f(x): return e*(x)\n",
        "\n",
        "a = 1\n",
        "b = -1\n",
        "n = 21\n",
        "h = (b-a)\n",
        "S= h*(f(a)+f(b))\n",
        "for i in range (1):\n",
        "  S = S+f(a+i*h)\n",
        "Integral = h*S\n",
        "print ('Integral = %f'%Integral)"
      ]
    }
  ]
}